{
 "cells": [
  {
   "cell_type": "code",
   "execution_count": 18,
   "metadata": {},
   "outputs": [
    {
     "name": "stdout",
     "output_type": "stream",
     "text": [
      "Ini adalah list : ['Python', 18, 70.1, True]\n",
      "Python 18 70.1 True \n",
      "\n",
      "Data list sebelum di ubah : ['Python', 18, 70.1, True]\n",
      "Data list sesudah di ubah : ['JavaScript', 18, 70.1, False]\n",
      "\n",
      "Menghapus list pada python\n",
      "Ini dengan remove : ['JavaScript', 18, 70.1]\n",
      "Ini dengan del    : ['JavaScript', 18]\n",
      "Ini dengan pop    : ['JavaScript']\n",
      "\n",
      "Manambahkan item ke dalam list\n",
      "Ini dengan append : ['JavaScript', 'HTML']\n",
      "Ini dengan extend : ['JavaScript', 'HTML', 18, 70.1]\n",
      "Ini dengan insert : ['JavaScript', 'HTML', True, 18, 70.1]\n"
     ]
    }
   ],
   "source": [
    "# Membuat sebuah list\n",
    "# untuk membuat tipe list ini. kita menggunakan tanda kurung siku.\n",
    "# List ini mempunyai sebuah index\n",
    "# Yang di mulai dari 0\n",
    "# Bisa juga di mulai dari belakang dengan menggunakan -1\n",
    "\n",
    "data_list = [\"Python\", 18, 70.1, True]\n",
    "print(f\"Ini adalah list : {data_list}\")\n",
    "\n",
    "# Kita juga dapat menampilkan list dengan perulangan/looping\n",
    "# sebagai contoh saya akan mencoba menggunakan looping for\n",
    "for i in data_list:\n",
    "    print(i, end=\" \")\n",
    "\n",
    "# Di list, kita juga bisa mengupdate value/nilai pada list tersebut\n",
    "print()\n",
    "print()\n",
    "print(f\"Data list sebelum di ubah : {data_list}\")\n",
    "\n",
    "data_list[0]  = \"JavaScript\" # Di sini saya akan mengubah value dari index ke 0\n",
    "data_list[-1] = False # Dan value dari index yang paling tarakhir\n",
    "print(f\"Data list sesudah di ubah : {data_list}\") \n",
    "\n",
    "\n",
    "## Menghapus value pada list\n",
    "# Untuk menghapus value pada tipe list ini, mempunyai 3 cara\n",
    "\n",
    "# 1. dengan remove : kita menghapus value dari list sesuai dengan namanya.\n",
    "print()\n",
    "print(\"Menghapus list pada python\")\n",
    "data_list.remove(False) \n",
    "print(f\"Ini dengan remove : {data_list}\")\n",
    "\n",
    "# 2. dengan del : untuk del ini. kita menghapus list berdasarkan index nya.\n",
    "del data_list[2] \n",
    "print(f\"Ini dengan del    : {data_list}\")\n",
    "\n",
    "# 3. dengan pop : Jadi pop akan mencari data yang paling akhir lalu menghapus-nya.\n",
    "data_list.pop() \n",
    "print(f\"Ini dengan pop    : {data_list}\")\n",
    "\n",
    "\n",
    "\n",
    "## Untuk menambahkan value/nilai ke dalam sebuah list.\n",
    "# terdapat tiga cara juga\n",
    "\n",
    "print()\n",
    "print(\"Manambahkan item ke dalam list\")\n",
    "\n",
    "# 1. dengan append : Untuk menambah data sesuai dengan nama yang kita inginkan\n",
    "data_list.append(\"HTML\") \n",
    "print(f\"Ini dengan append : {data_list}\")\n",
    "\n",
    "# 2. dengan extend : Untuk menambah dua item di akhir list\n",
    "data_list.extend([18, 70.1])\n",
    "print(f\"Ini dengan extend : {data_list}\")\n",
    "\n",
    "# 3. dengan insert : Jadi untuk insert ini, kita menambahkan item ke dalam list \n",
    "# susuai posisi yang kita inginkan \n",
    "# beradasarkan index pada list\n",
    "data_list.insert(2, True)\n",
    "print(f\"Ini dengan insert : {data_list}\")\n",
    "\n"
   ]
  }
 ],
 "metadata": {
  "interpreter": {
   "hash": "b89b5cfaba6639976dc87ff2fec6d58faec662063367e2c229c520fe71072417"
  },
  "kernelspec": {
   "display_name": "Python 3.10.2 64-bit",
   "language": "python",
   "name": "python3"
  },
  "language_info": {
   "codemirror_mode": {
    "name": "ipython",
    "version": 3
   },
   "file_extension": ".py",
   "mimetype": "text/x-python",
   "name": "python",
   "nbconvert_exporter": "python",
   "pygments_lexer": "ipython3",
   "version": "3.10.2"
  },
  "orig_nbformat": 4
 },
 "nbformat": 4,
 "nbformat_minor": 2
}
