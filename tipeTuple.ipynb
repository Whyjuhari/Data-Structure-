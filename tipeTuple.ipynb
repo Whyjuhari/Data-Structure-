{
 "cells": [
  {
   "cell_type": "code",
   "execution_count": 5,
   "metadata": {},
   "outputs": [
    {
     "name": "stdout",
     "output_type": "stream",
     "text": [
      "('Python', 18, 70.1, True)\n",
      "\n",
      "<class 'tuple'>\n",
      "<class 'list'>\n",
      "\n",
      "Python\n",
      "True\n",
      "\n",
      "Python\n",
      "18\n",
      "70.1\n",
      "True\n"
     ]
    },
    {
     "ename": "TypeError",
     "evalue": "'tuple' object does not support item assignment",
     "output_type": "error",
     "traceback": [
      "\u001b[1;31m---------------------------------------------------------------------------\u001b[0m",
      "\u001b[1;31mTypeError\u001b[0m                                 Traceback (most recent call last)",
      "\u001b[1;32md:\\Pemrograman\\Python Learning\\PythonLearning#2\\Practikum\\Data Structure\\tipeTuple.ipynb Cell 1'\u001b[0m in \u001b[0;36m<module>\u001b[1;34m\u001b[0m\n\u001b[0;32m     <a href='vscode-notebook-cell:/d%3A/Pemrograman/Python%20Learning/PythonLearning%232/Practikum/Data%20Structure/tipeTuple.ipynb#ch0000000?line=38'>39</a>\u001b[0m \u001b[39m# Cara mengganti anggota tipe data tuple\u001b[39;00m\n\u001b[0;32m     <a href='vscode-notebook-cell:/d%3A/Pemrograman/Python%20Learning/PythonLearning%232/Practikum/Data%20Structure/tipeTuple.ipynb#ch0000000?line=39'>40</a>\u001b[0m \u001b[39m# Seperti yang sudah saya katakan tadi di awal.\u001b[39;00m\n\u001b[0;32m     <a href='vscode-notebook-cell:/d%3A/Pemrograman/Python%20Learning/PythonLearning%232/Practikum/Data%20Structure/tipeTuple.ipynb#ch0000000?line=40'>41</a>\u001b[0m \u001b[39m# Bahwa anggota dari tipe data tuple ini, tidak dapat Diubah ataupun Diganti.\u001b[39;00m\n\u001b[0;32m     <a href='vscode-notebook-cell:/d%3A/Pemrograman/Python%20Learning/PythonLearning%232/Practikum/Data%20Structure/tipeTuple.ipynb#ch0000000?line=41'>42</a>\u001b[0m \u001b[39m# Benarkah demikian?\u001b[39;00m\n\u001b[0;32m     <a href='vscode-notebook-cell:/d%3A/Pemrograman/Python%20Learning/PythonLearning%232/Practikum/Data%20Structure/tipeTuple.ipynb#ch0000000?line=42'>43</a>\u001b[0m \u001b[39m# Mari kita Try...\u001b[39;00m\n\u001b[0;32m     <a href='vscode-notebook-cell:/d%3A/Pemrograman/Python%20Learning/PythonLearning%232/Practikum/Data%20Structure/tipeTuple.ipynb#ch0000000?line=43'>44</a>\u001b[0m data_tuple \u001b[39m=\u001b[39m (\u001b[39m\"\u001b[39m\u001b[39mPython\u001b[39m\u001b[39m\"\u001b[39m, \u001b[39m18\u001b[39m, \u001b[39m70.1\u001b[39m, \u001b[39mTrue\u001b[39;00m)\n\u001b[1;32m---> <a href='vscode-notebook-cell:/d%3A/Pemrograman/Python%20Learning/PythonLearning%232/Practikum/Data%20Structure/tipeTuple.ipynb#ch0000000?line=44'>45</a>\u001b[0m data_tuple[\u001b[39m-\u001b[39m\u001b[39m1\u001b[39m] \u001b[39m=\u001b[39m \u001b[39mFalse\u001b[39;00m\n\u001b[0;32m     <a href='vscode-notebook-cell:/d%3A/Pemrograman/Python%20Learning/PythonLearning%232/Practikum/Data%20Structure/tipeTuple.ipynb#ch0000000?line=45'>46</a>\u001b[0m \u001b[39mprint\u001b[39m(data_tuple)\n",
      "\u001b[1;31mTypeError\u001b[0m: 'tuple' object does not support item assignment"
     ]
    }
   ],
   "source": [
    "# Tuple\n",
    "# Tuple sangat mirip dengan list.\n",
    "# dimana tipe data tuple juga terdiri dari tipe data lain.\n",
    "# Bedanya, anggota di dalam tipe data Tuple tidak dapat di ubah.\n",
    "# Setelah di deklarasikan.\n",
    "# Saya akan bahas menggunakan Contoh Kode Program.\n",
    "\n",
    "# Cara Pembuatan Tipe Data Tuple Python\n",
    "# Nyaris tidak berbeda dengan list.\n",
    "# Namun tipe data tuple dibuat dengan menggunakan tanda kurung Bulat.\n",
    "# buka tanda kurung Siku. sebagaimana List\n",
    "\n",
    "data_tuple = (\"Python\", 18, 70.1, True)\n",
    "print(data_tuple)\n",
    "\n",
    "# Berikut pembuktiannya\n",
    "print()\n",
    "data_1 = (\"Belajar\", True)\n",
    "print(type(data_1))\n",
    "data_2 = [\"Belajar\", False]\n",
    "print(type(data_2))\n",
    "\n",
    "# Cara mengakses setiap anggota dati tipe data tuple\n",
    "# Tidak berbeda dengan List. \n",
    "# Dimana kita menulis nomor urut index dalam tanda kurung siku.\n",
    "print()\n",
    "data_tuple = (\"Python\", 18, 70.1, True)\n",
    "print(data_tuple[0]) # Kalau dari depan mulainya 0\n",
    "print(data_tuple[-1]) # Kalau dari belakang kita bisa mulai dengan -1\n",
    "\n",
    "\n",
    "# Kita juga bisa menampilkan anggota tuple dengan perulangan\n",
    "# Sebagai contoh saya menggunakan Looping for\n",
    "print()\n",
    "for tuple in data_tuple:\n",
    "    print(tuple)\n",
    "\n",
    "\n",
    "# Cara mengganti anggota tipe data tuple\n",
    "# Seperti yang sudah saya katakan tadi di awal.\n",
    "# Bahwa anggota dari tipe data tuple ini, tidak dapat Diubah ataupun Diganti.\n",
    "# Benarkah demikian?\n",
    "# Mari kita Try...\n",
    "data_tuple = (\"Python\", 18, 70.1, True)\n",
    "data_tuple[-1] = False\n",
    "print(data_tuple)\n",
    "\n",
    "# yapp Hasilnya terjadi error.\n",
    "# Dengan pesan 'tuple' object does not support item assignment\n",
    "# Yang artinya kurang lebih seperti ini :\n",
    "# Tuple tidak mendukung perubahan nilai. \n",
    "# Maybe.... \n",
    "\n"
   ]
  }
 ],
 "metadata": {
  "interpreter": {
   "hash": "b89b5cfaba6639976dc87ff2fec6d58faec662063367e2c229c520fe71072417"
  },
  "kernelspec": {
   "display_name": "Python 3.10.2 64-bit",
   "language": "python",
   "name": "python3"
  },
  "language_info": {
   "codemirror_mode": {
    "name": "ipython",
    "version": 3
   },
   "file_extension": ".py",
   "mimetype": "text/x-python",
   "name": "python",
   "nbconvert_exporter": "python",
   "pygments_lexer": "ipython3",
   "version": "3.10.2"
  },
  "orig_nbformat": 4
 },
 "nbformat": 4,
 "nbformat_minor": 2
}
